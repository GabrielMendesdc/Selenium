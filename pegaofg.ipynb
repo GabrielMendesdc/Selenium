{
 "cells": [
  {
   "cell_type": "code",
   "execution_count": 1,
   "id": "b425a342",
   "metadata": {},
   "outputs": [],
   "source": [
    "import re\n",
    "import shutil\n",
    "import requests\n",
    "from selenium import webdriver\n",
    "from webdriver_manager.chrome import ChromeDriverManager\n",
    "from selenium.webdriver.common.desired_capabilities import DesiredCapabilities\n",
    "\n",
    "pasta = 'C:/Users/pdv/Desktop/selenium-imgs/'\n",
    "\n",
    "profile=webdriver.ChromeOptions()\n",
    "# profile.set_preference(\"browser.download.folderList\",2)\n",
    "# profile.set_preference(\"browser.download.manager.showWhenStarting\",False)\n",
    "# profile.set_preference(\"browser.download.dir\",pasta)\n",
    "# profile.set_preference(\"browser.helperApps.neverAsk.saveToDisk\",\"application/octet-stream\")\n",
    "profile.add_argument(\"--window-size=1920,1080\")\n",
    "profile.add_argument('--disable-dev-shm-usage')\n",
    "profile.add_argument('--disable-gpu')\n",
    "profile.add_argument('--headless')\n",
    "\n",
    "def pegaofg(pasta):\n",
    "    #ajustando preferencias\n",
    "    dc = DesiredCapabilities.CHROME\n",
    "    dc['goog:loggingPrefs'] = { 'browser':'ALL' }\n",
    "    browser = webdriver.Chrome (ChromeDriverManager().install(),desired_capabilities=dc, options=profile)\n",
    "    #abre site\n",
    "    browser.get (\"https://www.goodbom.com.br/tabloides/index.php/goodbom-taquaral/\")\n",
    "    #pega o log\n",
    "    log = browser.get_log('browser')\n",
    "    links = re.findall('http://\\S*?\\.jpg', str(log))\n",
    "    print()\n",
    "    print()\n",
    "    for i in links:\n",
    "        #pula link antigo\n",
    "        if str(i) != 'http://goodbom.com.br/tabloides/wp-content/uploads/2016/06/mad.jpg':\n",
    "            print(i)\n",
    "            response = requests.get(i, stream=True)\n",
    "            #salva a imagem\n",
    "            with open(f'{pasta}/Goodbom/jpg{links.index(i)}.jpg', 'wb') as out_file:\n",
    "                shutil.copyfileobj(response.raw, out_file)\n",
    "            del response\n",
    "    browser.quit()"
   ]
  },
  {
   "cell_type": "code",
   "execution_count": null,
   "id": "83e6de92",
   "metadata": {},
   "outputs": [],
   "source": []
  }
 ],
 "metadata": {
  "kernelspec": {
   "display_name": "cientista",
   "language": "python",
   "name": "cientista"
  },
  "language_info": {
   "codemirror_mode": {
    "name": "ipython",
    "version": 3
   },
   "file_extension": ".py",
   "mimetype": "text/x-python",
   "name": "python",
   "nbconvert_exporter": "python",
   "pygments_lexer": "ipython3",
   "version": "3.10.0"
  }
 },
 "nbformat": 4,
 "nbformat_minor": 5
}
