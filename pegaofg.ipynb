{
 "cells": [
  {
   "cell_type": "code",
   "execution_count": 8,
   "id": "b425a342",
   "metadata": {},
   "outputs": [
    {
     "name": "stderr",
     "output_type": "stream",
     "text": [
      "C:\\Users\\pdv\\AppData\\Local\\Temp/ipykernel_28200/1990310040.py:24: DeprecationWarning: executable_path has been deprecated, please pass in a Service object\n",
      "  browser = webdriver.Chrome(executable_path='C:/Users/pdv/chromedriver.exe',desired_capabilities=dc, options=profile)\n"
     ]
    },
    {
     "ename": "InvalidArgumentException",
     "evalue": "Message: invalid argument\n  (Session info: headless chrome=100.0.4896.127)\nStacktrace:\nBacktrace:\n\tOrdinal0 [0x009D7413+2389011]\n\tOrdinal0 [0x00969F61+1941345]\n\tOrdinal0 [0x0085C520+836896]\n\tOrdinal0 [0x0084E019+778265]\n\tOrdinal0 [0x0084CB9F+773023]\n\tOrdinal0 [0x0084CE6D+773741]\n\tOrdinal0 [0x0085DE5A+843354]\n\tOrdinal0 [0x008B49BD+1198525]\n\tOrdinal0 [0x008A414C+1130828]\n\tOrdinal0 [0x008B4302+1196802]\n\tOrdinal0 [0x008A3F66+1130342]\n\tOrdinal0 [0x0087E546+976198]\n\tOrdinal0 [0x0087F456+980054]\n\tGetHandleVerifier [0x00B89632+1727522]\n\tGetHandleVerifier [0x00C3BA4D+2457661]\n\tGetHandleVerifier [0x00A6EB81+569713]\n\tGetHandleVerifier [0x00A6DD76+566118]\n\tOrdinal0 [0x00970B2B+1968939]\n\tOrdinal0 [0x00975988+1989000]\n\tOrdinal0 [0x00975A75+1989237]\n\tOrdinal0 [0x0097ECB1+2026673]\n\tBaseThreadInitThunk [0x75E9FA29+25]\n\tRtlGetAppContainerNamedObjectPath [0x770A7A7E+286]\n\tRtlGetAppContainerNamedObjectPath [0x770A7A4E+238]\n",
     "output_type": "error",
     "traceback": [
      "\u001b[1;31m---------------------------------------------------------------------------\u001b[0m",
      "\u001b[1;31mInvalidArgumentException\u001b[0m                  Traceback (most recent call last)",
      "\u001b[1;32m~\\AppData\\Local\\Temp/ipykernel_28200/1990310040.py\u001b[0m in \u001b[0;36m<module>\u001b[1;34m\u001b[0m\n\u001b[0;32m     42\u001b[0m     \u001b[0mbrowser\u001b[0m\u001b[1;33m.\u001b[0m\u001b[0mquit\u001b[0m\u001b[1;33m(\u001b[0m\u001b[1;33m)\u001b[0m\u001b[1;33m\u001b[0m\u001b[1;33m\u001b[0m\u001b[0m\n\u001b[0;32m     43\u001b[0m \u001b[1;33m\u001b[0m\u001b[0m\n\u001b[1;32m---> 44\u001b[1;33m \u001b[0mpegaofg\u001b[0m\u001b[1;33m(\u001b[0m\u001b[0mpasta\u001b[0m \u001b[1;33m=\u001b[0m \u001b[1;34m'C:/Users/pdv/Desktop/selenium-imgs'\u001b[0m\u001b[1;33m)\u001b[0m\u001b[1;33m\u001b[0m\u001b[1;33m\u001b[0m\u001b[0m\n\u001b[0m",
      "\u001b[1;32m~\\AppData\\Local\\Temp/ipykernel_28200/1990310040.py\u001b[0m in \u001b[0;36mpegaofg\u001b[1;34m(pasta)\u001b[0m\n\u001b[0;32m     25\u001b[0m \u001b[1;31m#     browser = webdriver.Chrome (ChromeDriverManager().install(),desired_capabilities=dc, options=profile)\u001b[0m\u001b[1;33m\u001b[0m\u001b[1;33m\u001b[0m\u001b[0m\n\u001b[0;32m     26\u001b[0m     \u001b[1;31m#abre site\u001b[0m\u001b[1;33m\u001b[0m\u001b[1;33m\u001b[0m\u001b[0m\n\u001b[1;32m---> 27\u001b[1;33m     \u001b[0mbrowser\u001b[0m\u001b[1;33m.\u001b[0m\u001b[0mget\u001b[0m \u001b[1;33m(\u001b[0m\u001b[1;34m\"www.goodbom.com.br/tabloides/index.php/goodbom-taquaral/\"\u001b[0m\u001b[1;33m)\u001b[0m\u001b[1;33m\u001b[0m\u001b[1;33m\u001b[0m\u001b[0m\n\u001b[0m\u001b[0;32m     28\u001b[0m     \u001b[1;31m#pega o log\u001b[0m\u001b[1;33m\u001b[0m\u001b[1;33m\u001b[0m\u001b[0m\n\u001b[0;32m     29\u001b[0m     \u001b[0mlog\u001b[0m \u001b[1;33m=\u001b[0m \u001b[0mbrowser\u001b[0m\u001b[1;33m.\u001b[0m\u001b[0mget_log\u001b[0m\u001b[1;33m(\u001b[0m\u001b[1;34m'browser'\u001b[0m\u001b[1;33m)\u001b[0m\u001b[1;33m\u001b[0m\u001b[1;33m\u001b[0m\u001b[0m\n",
      "\u001b[1;32m~\\anaconda3\\envs\\cientista\\lib\\site-packages\\selenium\\webdriver\\remote\\webdriver.py\u001b[0m in \u001b[0;36mget\u001b[1;34m(self, url)\u001b[0m\n\u001b[0;32m    435\u001b[0m         \u001b[0mLoads\u001b[0m \u001b[0ma\u001b[0m \u001b[0mweb\u001b[0m \u001b[0mpage\u001b[0m \u001b[1;32min\u001b[0m \u001b[0mthe\u001b[0m \u001b[0mcurrent\u001b[0m \u001b[0mbrowser\u001b[0m \u001b[0msession\u001b[0m\u001b[1;33m.\u001b[0m\u001b[1;33m\u001b[0m\u001b[1;33m\u001b[0m\u001b[0m\n\u001b[0;32m    436\u001b[0m         \"\"\"\n\u001b[1;32m--> 437\u001b[1;33m         \u001b[0mself\u001b[0m\u001b[1;33m.\u001b[0m\u001b[0mexecute\u001b[0m\u001b[1;33m(\u001b[0m\u001b[0mCommand\u001b[0m\u001b[1;33m.\u001b[0m\u001b[0mGET\u001b[0m\u001b[1;33m,\u001b[0m \u001b[1;33m{\u001b[0m\u001b[1;34m'url'\u001b[0m\u001b[1;33m:\u001b[0m \u001b[0murl\u001b[0m\u001b[1;33m}\u001b[0m\u001b[1;33m)\u001b[0m\u001b[1;33m\u001b[0m\u001b[1;33m\u001b[0m\u001b[0m\n\u001b[0m\u001b[0;32m    438\u001b[0m \u001b[1;33m\u001b[0m\u001b[0m\n\u001b[0;32m    439\u001b[0m     \u001b[1;33m@\u001b[0m\u001b[0mproperty\u001b[0m\u001b[1;33m\u001b[0m\u001b[1;33m\u001b[0m\u001b[0m\n",
      "\u001b[1;32m~\\anaconda3\\envs\\cientista\\lib\\site-packages\\selenium\\webdriver\\remote\\webdriver.py\u001b[0m in \u001b[0;36mexecute\u001b[1;34m(self, driver_command, params)\u001b[0m\n\u001b[0;32m    423\u001b[0m         \u001b[0mresponse\u001b[0m \u001b[1;33m=\u001b[0m \u001b[0mself\u001b[0m\u001b[1;33m.\u001b[0m\u001b[0mcommand_executor\u001b[0m\u001b[1;33m.\u001b[0m\u001b[0mexecute\u001b[0m\u001b[1;33m(\u001b[0m\u001b[0mdriver_command\u001b[0m\u001b[1;33m,\u001b[0m \u001b[0mparams\u001b[0m\u001b[1;33m)\u001b[0m\u001b[1;33m\u001b[0m\u001b[1;33m\u001b[0m\u001b[0m\n\u001b[0;32m    424\u001b[0m         \u001b[1;32mif\u001b[0m \u001b[0mresponse\u001b[0m\u001b[1;33m:\u001b[0m\u001b[1;33m\u001b[0m\u001b[1;33m\u001b[0m\u001b[0m\n\u001b[1;32m--> 425\u001b[1;33m             \u001b[0mself\u001b[0m\u001b[1;33m.\u001b[0m\u001b[0merror_handler\u001b[0m\u001b[1;33m.\u001b[0m\u001b[0mcheck_response\u001b[0m\u001b[1;33m(\u001b[0m\u001b[0mresponse\u001b[0m\u001b[1;33m)\u001b[0m\u001b[1;33m\u001b[0m\u001b[1;33m\u001b[0m\u001b[0m\n\u001b[0m\u001b[0;32m    426\u001b[0m             response['value'] = self._unwrap_value(\n\u001b[0;32m    427\u001b[0m                 response.get('value', None))\n",
      "\u001b[1;32m~\\anaconda3\\envs\\cientista\\lib\\site-packages\\selenium\\webdriver\\remote\\errorhandler.py\u001b[0m in \u001b[0;36mcheck_response\u001b[1;34m(self, response)\u001b[0m\n\u001b[0;32m    245\u001b[0m                 \u001b[0malert_text\u001b[0m \u001b[1;33m=\u001b[0m \u001b[0mvalue\u001b[0m\u001b[1;33m[\u001b[0m\u001b[1;34m'alert'\u001b[0m\u001b[1;33m]\u001b[0m\u001b[1;33m.\u001b[0m\u001b[0mget\u001b[0m\u001b[1;33m(\u001b[0m\u001b[1;34m'text'\u001b[0m\u001b[1;33m)\u001b[0m\u001b[1;33m\u001b[0m\u001b[1;33m\u001b[0m\u001b[0m\n\u001b[0;32m    246\u001b[0m             \u001b[1;32mraise\u001b[0m \u001b[0mexception_class\u001b[0m\u001b[1;33m(\u001b[0m\u001b[0mmessage\u001b[0m\u001b[1;33m,\u001b[0m \u001b[0mscreen\u001b[0m\u001b[1;33m,\u001b[0m \u001b[0mstacktrace\u001b[0m\u001b[1;33m,\u001b[0m \u001b[0malert_text\u001b[0m\u001b[1;33m)\u001b[0m  \u001b[1;31m# type: ignore[call-arg]  # mypy is not smart enough here\u001b[0m\u001b[1;33m\u001b[0m\u001b[1;33m\u001b[0m\u001b[0m\n\u001b[1;32m--> 247\u001b[1;33m         \u001b[1;32mraise\u001b[0m \u001b[0mexception_class\u001b[0m\u001b[1;33m(\u001b[0m\u001b[0mmessage\u001b[0m\u001b[1;33m,\u001b[0m \u001b[0mscreen\u001b[0m\u001b[1;33m,\u001b[0m \u001b[0mstacktrace\u001b[0m\u001b[1;33m)\u001b[0m\u001b[1;33m\u001b[0m\u001b[1;33m\u001b[0m\u001b[0m\n\u001b[0m\u001b[0;32m    248\u001b[0m \u001b[1;33m\u001b[0m\u001b[0m\n\u001b[0;32m    249\u001b[0m     \u001b[1;32mdef\u001b[0m \u001b[0m_value_or_default\u001b[0m\u001b[1;33m(\u001b[0m\u001b[0mself\u001b[0m\u001b[1;33m,\u001b[0m \u001b[0mobj\u001b[0m\u001b[1;33m:\u001b[0m \u001b[0mMapping\u001b[0m\u001b[1;33m[\u001b[0m\u001b[0m_KT\u001b[0m\u001b[1;33m,\u001b[0m \u001b[0m_VT\u001b[0m\u001b[1;33m]\u001b[0m\u001b[1;33m,\u001b[0m \u001b[0mkey\u001b[0m\u001b[1;33m:\u001b[0m \u001b[0m_KT\u001b[0m\u001b[1;33m,\u001b[0m \u001b[0mdefault\u001b[0m\u001b[1;33m:\u001b[0m \u001b[0m_VT\u001b[0m\u001b[1;33m)\u001b[0m \u001b[1;33m->\u001b[0m \u001b[0m_VT\u001b[0m\u001b[1;33m:\u001b[0m\u001b[1;33m\u001b[0m\u001b[1;33m\u001b[0m\u001b[0m\n",
      "\u001b[1;31mInvalidArgumentException\u001b[0m: Message: invalid argument\n  (Session info: headless chrome=100.0.4896.127)\nStacktrace:\nBacktrace:\n\tOrdinal0 [0x009D7413+2389011]\n\tOrdinal0 [0x00969F61+1941345]\n\tOrdinal0 [0x0085C520+836896]\n\tOrdinal0 [0x0084E019+778265]\n\tOrdinal0 [0x0084CB9F+773023]\n\tOrdinal0 [0x0084CE6D+773741]\n\tOrdinal0 [0x0085DE5A+843354]\n\tOrdinal0 [0x008B49BD+1198525]\n\tOrdinal0 [0x008A414C+1130828]\n\tOrdinal0 [0x008B4302+1196802]\n\tOrdinal0 [0x008A3F66+1130342]\n\tOrdinal0 [0x0087E546+976198]\n\tOrdinal0 [0x0087F456+980054]\n\tGetHandleVerifier [0x00B89632+1727522]\n\tGetHandleVerifier [0x00C3BA4D+2457661]\n\tGetHandleVerifier [0x00A6EB81+569713]\n\tGetHandleVerifier [0x00A6DD76+566118]\n\tOrdinal0 [0x00970B2B+1968939]\n\tOrdinal0 [0x00975988+1989000]\n\tOrdinal0 [0x00975A75+1989237]\n\tOrdinal0 [0x0097ECB1+2026673]\n\tBaseThreadInitThunk [0x75E9FA29+25]\n\tRtlGetAppContainerNamedObjectPath [0x770A7A7E+286]\n\tRtlGetAppContainerNamedObjectPath [0x770A7A4E+238]\n"
     ]
    }
   ],
   "source": [
    "import re\n",
    "import shutil\n",
    "import requests\n",
    "from selenium import webdriver\n",
    "from webdriver_manager.chrome import ChromeDriverManager\n",
    "from selenium.webdriver.common.desired_capabilities import DesiredCapabilities\n",
    "\n",
    "pasta = 'C:/Users/pdv/Desktop/selenium-imgs/'\n",
    "\n",
    "profile=webdriver.ChromeOptions()\n",
    "# profile.set_preference(\"browser.download.folderList\",2)\n",
    "# profile.set_preference(\"browser.download.manager.showWhenStarting\",False)\n",
    "# profile.set_preference(\"browser.download.dir\",pasta)\n",
    "# profile.set_preference(\"browser.helperApps.neverAsk.saveToDisk\",\"application/octet-stream\")\n",
    "profile.add_argument(\"--window-size=1920,1080\")\n",
    "profile.add_argument('--disable-dev-shm-usage')\n",
    "profile.add_argument('--disable-gpu')\n",
    "profile.add_argument('--headless')\n",
    "\n",
    "def pegaofg(pasta):\n",
    "    #ajustando preferencias\n",
    "    dc = DesiredCapabilities.CHROME\n",
    "    dc['goog:loggingPrefs'] = { 'browser':'ALL' }\n",
    "    browser = webdriver.Chrome(executable_path='C:/Users/pdv/chromedriver.exe',desired_capabilities=dc, options=profile)\n",
    "#     browser = webdriver.Chrome (ChromeDriverManager().install(),desired_capabilities=dc, options=profile)\n",
    "    #abre site\n",
    "    browser.get (\"www.goodbom.com.br/tabloides/index.php/goodbom-taquaral/\")\n",
    "    #pega o log\n",
    "    log = browser.get_log('browser')\n",
    "    links = re.findall('http://\\S*?\\.jpg', str(log))\n",
    "    print()\n",
    "    print()\n",
    "    for i in links:\n",
    "        #pula link antigo\n",
    "        if str(i) != 'http://goodbom.com.br/tabloides/wp-content/uploads/2016/06/mad.jpg':\n",
    "            print(i)\n",
    "            response = requests.get(i, stream=True)\n",
    "            #salva a imagem\n",
    "            with open(f'{pasta}/Goodbom/jpg{links.index(i)}.jpg', 'wb') as out_file:\n",
    "                shutil.copyfileobj(response.raw, out_file)\n",
    "            del response\n",
    "    browser.quit()\n",
    "    \n",
    "pegaofg(pasta = 'C:/Users/pdv/Desktop/selenium-imgs')"
   ]
  },
  {
   "cell_type": "code",
   "execution_count": null,
   "id": "83e6de92",
   "metadata": {},
   "outputs": [],
   "source": []
  }
 ],
 "metadata": {
  "kernelspec": {
   "display_name": "cientista",
   "language": "python",
   "name": "cientista"
  },
  "language_info": {
   "codemirror_mode": {
    "name": "ipython",
    "version": 3
   },
   "file_extension": ".py",
   "mimetype": "text/x-python",
   "name": "python",
   "nbconvert_exporter": "python",
   "pygments_lexer": "ipython3",
   "version": "3.10.0"
  }
 },
 "nbformat": 4,
 "nbformat_minor": 5
}
