{
 "cells": [
  {
   "cell_type": "code",
   "execution_count": 23,
   "id": "02f4f8b7",
   "metadata": {},
   "outputs": [
    {
     "data": {
      "text/html": [
       "<style>.container { width:90% !important; }</style>"
      ],
      "text/plain": [
       "<IPython.core.display.HTML object>"
      ]
     },
     "metadata": {},
     "output_type": "display_data"
    }
   ],
   "source": [
    "from IPython.core.display import display, HTML\n",
    "display(HTML(\"<style>.container { width:90% !important; }</style>\"))"
   ]
  },
  {
   "cell_type": "code",
   "execution_count": 3,
   "id": "67b157af",
   "metadata": {},
   "outputs": [
    {
     "name": "stdout",
     "output_type": "stream",
     "text": [
      "sou um pdf\n",
      "numero:  0  fornecedor:  05955701\n"
     ]
    },
    {
     "ename": "IndexError",
     "evalue": "list index out of range",
     "output_type": "error",
     "traceback": [
      "\u001b[1;31m---------------------------------------------------------------------------\u001b[0m",
      "\u001b[1;31mIndexError\u001b[0m                                Traceback (most recent call last)",
      "\u001b[1;32m~\\AppData\\Local\\Temp/ipykernel_13324/3843348404.py\u001b[0m in \u001b[0;36m<module>\u001b[1;34m\u001b[0m\n\u001b[0;32m    117\u001b[0m \u001b[1;33m\u001b[0m\u001b[0m\n\u001b[0;32m    118\u001b[0m \u001b[1;32mif\u001b[0m \u001b[0m__name__\u001b[0m \u001b[1;33m==\u001b[0m \u001b[1;34m'__main__'\u001b[0m\u001b[1;33m:\u001b[0m\u001b[1;33m\u001b[0m\u001b[1;33m\u001b[0m\u001b[0m\n\u001b[1;32m--> 119\u001b[1;33m     \u001b[0miniciapdf\u001b[0m\u001b[1;33m(\u001b[0m\u001b[1;36m945441763\u001b[0m\u001b[1;33m,\u001b[0m\u001b[0mfornecedor\u001b[0m \u001b[1;33m=\u001b[0m \u001b[1;34m'05955701'\u001b[0m\u001b[1;33m,\u001b[0m \u001b[0mnumero\u001b[0m\u001b[1;33m=\u001b[0m\u001b[1;36m0\u001b[0m\u001b[1;33m,\u001b[0m \u001b[0mlojas\u001b[0m \u001b[1;33m=\u001b[0m \u001b[1;33m[\u001b[0m\u001b[1;34m'0'\u001b[0m\u001b[1;33m]\u001b[0m\u001b[1;33m,\u001b[0m \u001b[0mmes\u001b[0m \u001b[1;33m=\u001b[0m \u001b[1;34m'04'\u001b[0m\u001b[1;33m)\u001b[0m\u001b[1;33m\u001b[0m\u001b[1;33m\u001b[0m\u001b[0m\n\u001b[0m",
      "\u001b[1;32m~\\AppData\\Local\\Temp/ipykernel_13324/3843348404.py\u001b[0m in \u001b[0;36miniciapdf\u001b[1;34m(id1, fornecedor, numero, lojas, mes)\u001b[0m\n\u001b[0;32m    105\u001b[0m     \u001b[1;32mif\u001b[0m \u001b[0mnumero\u001b[0m \u001b[1;33m!=\u001b[0m \u001b[1;36m0\u001b[0m \u001b[1;32mand\u001b[0m \u001b[0mfornecedor\u001b[0m \u001b[1;33m==\u001b[0m \u001b[1;34m''\u001b[0m\u001b[1;33m:\u001b[0m\u001b[1;33m\u001b[0m\u001b[1;33m\u001b[0m\u001b[0m\n\u001b[0;32m    106\u001b[0m         \u001b[0mlojas\u001b[0m \u001b[1;33m=\u001b[0m \u001b[1;33m[\u001b[0m\u001b[1;34m'0'\u001b[0m\u001b[1;33m,\u001b[0m\u001b[1;34m'1'\u001b[0m\u001b[1;33m,\u001b[0m\u001b[1;34m'2'\u001b[0m\u001b[1;33m,\u001b[0m\u001b[1;34m'3'\u001b[0m\u001b[1;33m,\u001b[0m\u001b[1;34m'4'\u001b[0m\u001b[1;33m,\u001b[0m\u001b[1;34m'5'\u001b[0m\u001b[1;33m,\u001b[0m\u001b[1;34m'6'\u001b[0m\u001b[1;33m]\u001b[0m\u001b[1;33m\u001b[0m\u001b[1;33m\u001b[0m\u001b[0m\n\u001b[1;32m--> 107\u001b[1;33m     \u001b[0mlista\u001b[0m \u001b[1;33m=\u001b[0m \u001b[0mbuscaxml\u001b[0m\u001b[1;33m(\u001b[0m\u001b[0mnumero\u001b[0m\u001b[1;33m,\u001b[0m \u001b[0mfornecedor\u001b[0m\u001b[1;33m,\u001b[0m\u001b[0mlojas\u001b[0m\u001b[1;33m,\u001b[0m\u001b[0mmes\u001b[0m\u001b[1;33m)\u001b[0m\u001b[1;33m\u001b[0m\u001b[1;33m\u001b[0m\u001b[0m\n\u001b[0m\u001b[0;32m    108\u001b[0m     \u001b[0mprint\u001b[0m\u001b[1;33m(\u001b[0m\u001b[1;34mf'{lista} = buscaxml({numero}, {fornecedor}, {lojas}, {mes}'\u001b[0m\u001b[1;33m)\u001b[0m\u001b[1;33m\u001b[0m\u001b[1;33m\u001b[0m\u001b[0m\n\u001b[0;32m    109\u001b[0m     \u001b[1;32mtry\u001b[0m\u001b[1;33m:\u001b[0m\u001b[1;33m\u001b[0m\u001b[1;33m\u001b[0m\u001b[0m\n",
      "\u001b[1;32m~\\AppData\\Local\\Temp/ipykernel_13324/3843348404.py\u001b[0m in \u001b[0;36mbuscaxml\u001b[1;34m(numero, fornecedor, lojas, mes)\u001b[0m\n\u001b[0;32m     45\u001b[0m     \u001b[0mlojitas\u001b[0m \u001b[1;33m=\u001b[0m \u001b[1;33m[\u001b[0m\u001b[0mcnpjs\u001b[0m\u001b[1;33m[\u001b[0m\u001b[0mint\u001b[0m\u001b[1;33m(\u001b[0m\u001b[0mi\u001b[0m\u001b[1;33m)\u001b[0m\u001b[1;33m]\u001b[0m \u001b[1;32mfor\u001b[0m \u001b[0mi\u001b[0m \u001b[1;32min\u001b[0m \u001b[0mlojas\u001b[0m\u001b[1;33m]\u001b[0m\u001b[1;33m\u001b[0m\u001b[1;33m\u001b[0m\u001b[0m\n\u001b[0;32m     46\u001b[0m     \u001b[1;32mif\u001b[0m \u001b[0mfornecedor\u001b[0m\u001b[1;33m:\u001b[0m\u001b[1;33m\u001b[0m\u001b[1;33m\u001b[0m\u001b[0m\n\u001b[1;32m---> 47\u001b[1;33m         \u001b[0mfornecedor\u001b[0m \u001b[1;33m=\u001b[0m \u001b[0mstr\u001b[0m\u001b[1;33m(\u001b[0m\u001b[0mpegacnpj\u001b[0m\u001b[1;33m(\u001b[0m\u001b[0mfornecedor\u001b[0m\u001b[1;33m)\u001b[0m\u001b[1;33m)\u001b[0m \u001b[1;31m#Mudar aqui depois pra não ficar dificil achar forn\u001b[0m\u001b[1;33m\u001b[0m\u001b[1;33m\u001b[0m\u001b[0m\n\u001b[0m\u001b[0;32m     48\u001b[0m     \u001b[1;32mfor\u001b[0m \u001b[0mcnpj\u001b[0m \u001b[1;32min\u001b[0m \u001b[0mlojitas\u001b[0m\u001b[1;33m:\u001b[0m\u001b[1;33m\u001b[0m\u001b[1;33m\u001b[0m\u001b[0m\n\u001b[0;32m     49\u001b[0m         \u001b[0mdire\u001b[0m \u001b[1;33m=\u001b[0m \u001b[1;34mf'N://XML ENTRADA/destinadas/{cnpj}/2022-{mes}'\u001b[0m\u001b[1;33m\u001b[0m\u001b[1;33m\u001b[0m\u001b[0m\n",
      "\u001b[1;32m~\\AppData\\Local\\Temp/ipykernel_13324/3843348404.py\u001b[0m in \u001b[0;36mpegacnpj\u001b[1;34m(forn)\u001b[0m\n\u001b[0;32m     29\u001b[0m                 \u001b[0mcnpj\u001b[0m \u001b[1;33m=\u001b[0m \u001b[1;34m''\u001b[0m\u001b[1;33m.\u001b[0m\u001b[0mjoin\u001b[0m\u001b[1;33m(\u001b[0m\u001b[1;33m[\u001b[0m\u001b[0mi\u001b[0m \u001b[1;32mfor\u001b[0m \u001b[0mi\u001b[0m \u001b[1;32min\u001b[0m \u001b[0mcnpj\u001b[0m \u001b[1;32mif\u001b[0m \u001b[0mi\u001b[0m \u001b[1;32mnot\u001b[0m \u001b[1;32min\u001b[0m \u001b[0mstring\u001b[0m\u001b[1;33m.\u001b[0m\u001b[0mpunctuation\u001b[0m\u001b[1;33m]\u001b[0m\u001b[1;33m)\u001b[0m\u001b[1;33m\u001b[0m\u001b[1;33m\u001b[0m\u001b[0m\n\u001b[0;32m     30\u001b[0m                 \u001b[0mcnpjs\u001b[0m\u001b[1;33m.\u001b[0m\u001b[0mappend\u001b[0m\u001b[1;33m(\u001b[0m\u001b[0mint\u001b[0m\u001b[1;33m(\u001b[0m\u001b[0mcnpj\u001b[0m\u001b[1;33m)\u001b[0m\u001b[1;33m)\u001b[0m\u001b[1;33m\u001b[0m\u001b[1;33m\u001b[0m\u001b[0m\n\u001b[1;32m---> 31\u001b[1;33m     \u001b[1;32mreturn\u001b[0m \u001b[0mcnpjs\u001b[0m\u001b[1;33m[\u001b[0m\u001b[1;36m0\u001b[0m\u001b[1;33m]\u001b[0m\u001b[1;33m\u001b[0m\u001b[1;33m\u001b[0m\u001b[0m\n\u001b[0m\u001b[0;32m     32\u001b[0m \u001b[1;33m\u001b[0m\u001b[0m\n\u001b[0;32m     33\u001b[0m \u001b[1;33m\u001b[0m\u001b[0m\n",
      "\u001b[1;31mIndexError\u001b[0m: list index out of range"
     ]
    }
   ],
   "source": [
    "import os\n",
    "import string\n",
    "import shutil\n",
    "import zipfile\n",
    "from selenium import webdriver\n",
    "from selenium.webdriver.common.by import By\n",
    "from selenium.webdriver.common.keys import Keys\n",
    "from selenium.webdriver.support.ui import WebDriverWait\n",
    "from selenium.webdriver.support import expected_conditions as ec\n",
    "\n",
    "\n",
    "profile=webdriver.FirefoxOptions()\n",
    "profile.set_preference(\"browser.download.folderList\",2)\n",
    "profile.set_preference(\"browser.download.manager.showWhenStarting\",False)\n",
    "profile.set_preference(\"browser.download.dir\",\"C:/Users/pdv/Desktop/selenium-imgs/pdfs\")\n",
    "profile.set_preference(\"browser.helperApps.neverAsk.saveToDisk\",\"application/octet-stream\")\n",
    "profile.add_argument(\"--window-size=1920,1080\")\n",
    "profile.add_argument('--disable-dev-shm-usage')\n",
    "profile.add_argument('--disable-gpu')\n",
    "profile.add_argument('--headless')\n",
    "browser=webdriver.Firefox(options=profile)\n",
    "\n",
    "def pegacnpj(forn):\n",
    "    cnpjs = []\n",
    "    with open(\"cnpjs.txt\", 'r') as db:\n",
    "        for linha in db:\n",
    "            if forn in linha.lower():\n",
    "                cnpj = linha[-19:-9]\n",
    "                cnpj = ''.join([i for i in cnpj if i not in string.punctuation])\n",
    "                cnpjs.append(int(cnpj))\n",
    "    return cnpjs[0]\n",
    "            \n",
    "    \n",
    "def purgedir(parent):\n",
    "    for root, dirs, files in os.walk(parent):                                      \n",
    "        for item in files:\n",
    "            filespec = os.path.join(root, item)\n",
    "            os.unlink(filespec)\n",
    "\n",
    "\n",
    "def buscaxml(numero=0,fornecedor='',lojas=['0'],mes='04'):\n",
    "    xmls,lista = [],[]\n",
    "    cnpjs = ['05349537000185','07246178000166','08158815000105','32265622000138',\n",
    "             '05349537000266','23017342000209','23017342000110']\n",
    "    lojitas = [cnpjs[int(i)] for i in lojas]\n",
    "    if fornecedor:\n",
    "        fornecedor = str(pegacnpj(fornecedor)) #Mudar aqui depois pra não ficar dificil achar forn\n",
    "    for cnpj in lojitas:\n",
    "        dire = f'N://XML ENTRADA/destinadas/{cnpj}/2022-{mes}'\n",
    "        if fornecedor:\n",
    "            arq = [f for f in os.listdir(dire) if fornecedor in f]\n",
    "        if numero:\n",
    "            arq = [f for f in os.listdir(dire) if str(numero) in f]\n",
    "        for i in arq:\n",
    "            xmls.append({f'{cnpj}':i})\n",
    "    for k in xmls: \n",
    "        for cnpj,v in k.items():\n",
    "            if (numero and str(numero) in v[25:34]) or fornecedor:\n",
    "                lista.append(fr'N:\\XML ENTRADA\\destinadas\\\\{cnpj}\\2022-{mes}\\\\{v}')\n",
    "#                 lista.append('\\n')\n",
    "                   # r'N:\\XML ENTRADA\\destinadas\\05349537000185\\2022-04\\35220433019177000199550010000866381022596760.xml'\n",
    "\n",
    "    print(lista)\n",
    "    return lista\n",
    "        \n",
    "    \n",
    "def nota(xml):\n",
    "    #  XML deve ser um arquivo.xml ou um caminho absoluto\n",
    "    browser.get('https://www.fsist.com.br/converter-xml-nfe-para-danfe')\n",
    "    lista = [(By.ID,\"arquivo\"),(By.CLASS_NAME,\"butenviar\"),(By.ID,\"msgsim\"),(By.ID,\"butlink\")]\n",
    "    wait = WebDriverWait(browser, 10)\n",
    "    for x,y in lista:\n",
    "        if not y == 'arquivo':\n",
    "            elem = wait.until(ec.element_to_be_clickable((x,y)))\n",
    "            elem.click()\n",
    "        else:\n",
    "            elem = browser.find_element(x,y)\n",
    "            elem.send_keys(xml)\n",
    "\n",
    "    \n",
    "def extrai(id1):    \n",
    "    down = 'C://Users/pdv/Downloads'\n",
    "    output = f'C://Users/pdv/Desktop/selenium-imgs/pdfs/{id1}'\n",
    "    remove = []\n",
    "    for raiz, pastas, arquivos in os.walk(down): \n",
    "        for arquivo in arquivos:\n",
    "            if arquivo.startswith('FSist'):\n",
    "                print(arquivo)\n",
    "                entrada = os.path.join(down, arquivo)\n",
    "                saida = os.path.join(output, arquivo)\n",
    "                remove.append(entrada)\n",
    "                with zipfile.ZipFile(entrada, mode=\"r\") as archive:\n",
    "                    for i in archive.namelist():\n",
    "                        if not i.startswith('_'):\n",
    "                            print(i)\n",
    "                            archive.extract(i, path=output)\n",
    "    for i in remove:\n",
    "        os.remove(i)\n",
    "        \n",
    "        \n",
    "def iniciapdf(id1, fornecedor = '',numero = 0, lojas = ['0','1','2','3','4','5','6'], mes = '04'):\n",
    "    print('sou um pdf')\n",
    "    print('numero: ',numero,' fornecedor: ', fornecedor)\n",
    "    if numero != 0 and fornecedor == '':\n",
    "        lojas = ['0','1','2','3','4','5','6']\n",
    "    lista = buscaxml(numero, fornecedor,lojas,mes)\n",
    "    print(f'{lista} = buscaxml({numero}, {fornecedor}, {lojas}, {mes}')\n",
    "    try:\n",
    "        os.mkdir(f'C:/Users/pdv/Desktop/selenium-imgs/pdfs/{id1}')\n",
    "    except:\n",
    "        purgedir(f'C:/Users/pdv/Desktop/selenium-imgs/pdfs/{id1}')\n",
    "#     for i in lista:\n",
    "    nota(lista)\n",
    "    extrai(id1)\n",
    "    \n",
    "    \n",
    "if __name__ == '__main__': \n",
    "    iniciapdf(945441763,fornecedor = '05955701', numero=0, lojas = ['0'], mes = '04')"
   ]
  },
  {
   "cell_type": "code",
   "execution_count": null,
   "id": "d9053867",
   "metadata": {},
   "outputs": [],
   "source": []
  }
 ],
 "metadata": {
  "kernelspec": {
   "display_name": "cientista",
   "language": "python",
   "name": "cientista"
  },
  "language_info": {
   "codemirror_mode": {
    "name": "ipython",
    "version": 3
   },
   "file_extension": ".py",
   "mimetype": "text/x-python",
   "name": "python",
   "nbconvert_exporter": "python",
   "pygments_lexer": "ipython3",
   "version": "3.10.0"
  }
 },
 "nbformat": 4,
 "nbformat_minor": 5
}
