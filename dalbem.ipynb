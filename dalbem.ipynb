{
 "cells": [
  {
   "cell_type": "code",
   "execution_count": 2,
   "id": "72e7230d",
   "metadata": {},
   "outputs": [
    {
     "name": "stdout",
     "output_type": "stream",
     "text": [
      "page\n",
      "page\n"
     ]
    }
   ],
   "source": [
    "from selenium.webdriver import Chrome, ChromeOptions\n",
    "from selenium.webdriver.chrome.options import Options\n",
    "from selenium.webdriver.chrome.service import Service\n",
    "from selenium.webdriver.common.by import By\n",
    "from pdf2image import convert_from_path\n",
    "from time import sleep\n",
    "import requests\n",
    "import shutil\n",
    "import os\n",
    "\n",
    "def purgedir(parent):\n",
    "    for root, dirs, files in os.walk(parent):                                      \n",
    "        for item in files:\n",
    "            filespec = os.path.join(root, item)\n",
    "            os.unlink(filespec)\n",
    "            \n",
    "            \n",
    "def inita():\n",
    "    s=Service(r'C:/Users/pdv/chromedriver.exe')\n",
    "    browser = Chrome(service=s)\n",
    "    browser.get('https://www.supermercadosdalben.com.br/ofertas.html')\n",
    "    sleep(3)\n",
    "    body = browser.find_element(By.TAG_NAME, 'body')\n",
    "    img = body.find_elements(By.CLASS_NAME, 'img-responsive ')\n",
    "    img[1].click()\n",
    "    sleep(5)\n",
    "    window_after = browser.window_handles[1]\n",
    "    browser.switch_to.window(window_after)\n",
    "    url = browser.current_url\n",
    "    browser.quit()\n",
    "    response = requests.get(url, stream=True)\n",
    "    with open('C:/Users/pdv/Desktop/selenium-imgs/dalbem.pdf', 'wb') as out_file:\n",
    "        shutil.copyfileobj(response.raw, out_file)\n",
    "    del response\n",
    "    purgedir(f'C:/Users/pdv/Desktop/selenium-imgs/rename')\n",
    "    images = convert_from_path('C:/Users/pdv/Desktop/selenium-imgs/dalbem.pdf',\n",
    "                               poppler_path=r'C:\\Program Files (x86)\\poppler-21.11.0\\Library\\bin',\n",
    "                              output_folder='C:/Users/pdv/Desktop/selenium-imgs/rename',\n",
    "                              fmt='PNG')\n",
    "    \n",
    "    for i in range(len(images)):   \n",
    "        images[i].save('pagina'+ str(i) +'.png', 'PNG')\n",
    "        print('page')\n",
    "    return 1\n",
    "\n",
    "if __name__ == \"__main__\":\n",
    "    inita()"
   ]
  },
  {
   "cell_type": "code",
   "execution_count": null,
   "id": "64c39299",
   "metadata": {},
   "outputs": [],
   "source": []
  }
 ],
 "metadata": {
  "kernelspec": {
   "display_name": "cientista",
   "language": "python",
   "name": "cientista"
  },
  "language_info": {
   "codemirror_mode": {
    "name": "ipython",
    "version": 3
   },
   "file_extension": ".py",
   "mimetype": "text/x-python",
   "name": "python",
   "nbconvert_exporter": "python",
   "pygments_lexer": "ipython3",
   "version": "3.10.0"
  }
 },
 "nbformat": 4,
 "nbformat_minor": 5
}
