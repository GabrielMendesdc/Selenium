{
 "cells": [
  {
   "cell_type": "code",
   "execution_count": 23,
   "id": "02f4f8b7",
   "metadata": {},
   "outputs": [
    {
     "data": {
      "text/html": [
       "<style>.container { width:90% !important; }</style>"
      ],
      "text/plain": [
       "<IPython.core.display.HTML object>"
      ]
     },
     "metadata": {},
     "output_type": "display_data"
    }
   ],
   "source": [
    "from IPython.core.display import display, HTML\n",
    "display(HTML(\"<style>.container { width:90% !important; }</style>\"))"
   ]
  },
  {
   "cell_type": "code",
   "execution_count": 8,
   "id": "67b157af",
   "metadata": {},
   "outputs": [
    {
     "name": "stdout",
     "output_type": "stream",
     "text": [
      "sou um pdf\n",
      "numero:  0  fornecedor:  13495487\n",
      "['N:\\\\XML ENTRADA\\\\destinadas\\\\\\\\08158815000105\\\\2022-03\\\\\\\\35220313495487000172550010030629351489478866.xml', 'N:\\\\XML ENTRADA\\\\destinadas\\\\\\\\08158815000105\\\\2022-03\\\\\\\\35220313495487000172550010030646771940159220.xml', 'N:\\\\XML ENTRADA\\\\destinadas\\\\\\\\08158815000105\\\\2022-03\\\\\\\\35220313495487000172550010030646781799629854.xml', 'N:\\\\XML ENTRADA\\\\destinadas\\\\\\\\08158815000105\\\\2022-03\\\\\\\\35220313495487000172550010030806511727250595.xml', 'N:\\\\XML ENTRADA\\\\destinadas\\\\\\\\08158815000105\\\\2022-03\\\\\\\\35220313495487000172550010030845981871558533.xml']\n",
      "['N:\\\\XML ENTRADA\\\\destinadas\\\\\\\\08158815000105\\\\2022-03\\\\\\\\35220313495487000172550010030629351489478866.xml', 'N:\\\\XML ENTRADA\\\\destinadas\\\\\\\\08158815000105\\\\2022-03\\\\\\\\35220313495487000172550010030646771940159220.xml', 'N:\\\\XML ENTRADA\\\\destinadas\\\\\\\\08158815000105\\\\2022-03\\\\\\\\35220313495487000172550010030646781799629854.xml', 'N:\\\\XML ENTRADA\\\\destinadas\\\\\\\\08158815000105\\\\2022-03\\\\\\\\35220313495487000172550010030806511727250595.xml', 'N:\\\\XML ENTRADA\\\\destinadas\\\\\\\\08158815000105\\\\2022-03\\\\\\\\35220313495487000172550010030845981871558533.xml'] = buscaxml(0, 13495487, ['2'], 03\n",
      "erro no sendkeys\n",
      "FSist 5 DANFEs 12-42-52.zip\n",
      "35220313495487000172550010030629351489478866.pdf\n",
      "35220313495487000172550010030646771940159220.pdf\n",
      "35220313495487000172550010030646781799629854.pdf\n",
      "35220313495487000172550010030806511727250595.pdf\n",
      "35220313495487000172550010030845981871558533.pdf\n"
     ]
    }
   ],
   "source": [
    "import os\n",
    "import string\n",
    "import shutil\n",
    "import zipfile\n",
    "from selenium import webdriver\n",
    "from selenium.webdriver.common.by import By\n",
    "from selenium.webdriver.common.keys import Keys\n",
    "from selenium.webdriver.support.ui import WebDriverWait\n",
    "from selenium.webdriver.support import expected_conditions as ec\n",
    "\n",
    "\n",
    "profile=webdriver.FirefoxOptions()\n",
    "profile.set_preference(\"browser.download.folderList\",2)\n",
    "profile.set_preference(\"browser.download.manager.showWhenStarting\",False)\n",
    "profile.set_preference(\"browser.download.dir\",\"C:/Users/pdv/Desktop/selenium-imgs/pdfs\")\n",
    "profile.set_preference(\"browser.helperApps.neverAsk.saveToDisk\",\"application/octet-stream\")\n",
    "profile.add_argument(\"--window-size=1920,1080\")\n",
    "profile.add_argument('--disable-dev-shm-usage')\n",
    "profile.add_argument('--disable-gpu')\n",
    "profile.add_argument('--headless')\n",
    "browser=webdriver.Firefox(options=profile)\n",
    "            \n",
    "    \n",
    "def purgedir(parent):\n",
    "    for root, dirs, files in os.walk(parent):                                      \n",
    "        for item in files:\n",
    "            filespec = os.path.join(root, item)\n",
    "            os.unlink(filespec)\n",
    "\n",
    "\n",
    "def buscaxml(numero=0,fornecedor='',lojas=['0'],mes='04'):\n",
    "    xmls,lista = [],[]\n",
    "    cnpjs = ['05349537000185','07246178000166','08158815000105','32265622000138',\n",
    "             '05349537000266','23017342000209','23017342000110']\n",
    "    lojitas = [cnpjs[int(i)] for i in lojas]\n",
    "    for cnpj in lojitas:\n",
    "        dire = f'N://XML ENTRADA/destinadas/{cnpj}/2022-{mes}'\n",
    "        if fornecedor:\n",
    "            arq = [f for f in os.listdir(dire) if fornecedor in f]\n",
    "        if numero:\n",
    "            arq = [f for f in os.listdir(dire) if str(numero) in f]\n",
    "        for i in arq:\n",
    "            xmls.append({f'{cnpj}':i})\n",
    "    for k in xmls: \n",
    "        for cnpj,v in k.items():\n",
    "            if (numero and str(numero) in v[25:34]) or fornecedor:\n",
    "                lista.append(fr'N:\\XML ENTRADA\\destinadas\\\\{cnpj}\\2022-{mes}\\\\{v}')\n",
    "#                 lista.append('\\n')\n",
    "                   # r'N:\\XML ENTRADA\\destinadas\\05349537000185\\2022-04\\35220433019177000199550010000866381022596760.xml'\n",
    "    print(lista)\n",
    "    return lista\n",
    "        \n",
    "    \n",
    "def nota(xml):\n",
    "    #  XML deve ser um arquivo.xml ou um caminho absoluto\n",
    "    browser.get('https://www.fsist.com.br/converter-xml-nfe-para-danfe')\n",
    "    lista = [(By.ID,\"arquivo\"),(By.CLASS_NAME,\"butenviar\"),(By.ID,\"msgsim\"),(By.ID,\"butlink\")]\n",
    "    wait = WebDriverWait(browser, 10)\n",
    "    for x,y in lista:\n",
    "        if not y == 'arquivo':\n",
    "            elem = wait.until(ec.element_to_be_clickable((x,y)))\n",
    "            elem.click()\n",
    "        else:\n",
    "            elem = browser.find_element(x,y)\n",
    "            print('erro no sendkeys')\n",
    "            for i in xml:\n",
    "                elem.send_keys(i)\n",
    "\n",
    "    \n",
    "def extrai(id1):    \n",
    "    down = 'C://Users/pdv/Downloads'\n",
    "    output = f'C://Users/pdv/Desktop/selenium-imgs/pdfs/{id1}'\n",
    "    remove = []\n",
    "    for raiz, pastas, arquivos in os.walk(down): \n",
    "        for arquivo in arquivos:\n",
    "            if arquivo.startswith('FSist'):\n",
    "                print(arquivo)\n",
    "                entrada = os.path.join(down, arquivo)\n",
    "                saida = os.path.join(output, arquivo)\n",
    "                remove.append(entrada)\n",
    "                with zipfile.ZipFile(entrada, mode=\"r\") as archive:\n",
    "                    for i in archive.namelist():\n",
    "                        if not i.startswith('_'):\n",
    "                            print(i)\n",
    "                            archive.extract(i, path=output)\n",
    "    for i in remove:\n",
    "        os.remove(i)\n",
    "        \n",
    "        \n",
    "def iniciapdf(id1, fornecedor = '',numero = 0, lojas = ['0'], mes = '04'):\n",
    "    print('sou um pdf')\n",
    "    print('numero: ',numero,' fornecedor: ', fornecedor)\n",
    "    if numero != 0 and fornecedor == '':\n",
    "        lojas = ['0','1','2','3','4','5','6']\n",
    "    lista = buscaxml(numero, fornecedor,lojas,mes)\n",
    "    if not lista:\n",
    "        return 'vazio'\n",
    "    print(f'{lista} = buscaxml({numero}, {fornecedor}, {lojas}, {mes}')\n",
    "    try:\n",
    "        os.mkdir(f'C:/Users/pdv/Desktop/selenium-imgs/pdfs/{id1}')\n",
    "    except:\n",
    "        purgedir(f'C:/Users/pdv/Desktop/selenium-imgs/pdfs/{id1}')\n",
    "#     for i in lista:\n",
    "    nota(lista)\n",
    "    extrai(id1)\n",
    "    return 'ok'\n",
    "    \n",
    "    \n",
    "if __name__ == '__main__': \n",
    "    iniciapdf(945441763,fornecedor = '13495487', numero=0, lojas = ['2'], mes = '03')\n"
   ]
  },
  {
   "cell_type": "code",
   "execution_count": null,
   "id": "d9053867",
   "metadata": {},
   "outputs": [],
   "source": []
  }
 ],
 "metadata": {
  "kernelspec": {
   "display_name": "cientista",
   "language": "python",
   "name": "cientista"
  },
  "language_info": {
   "codemirror_mode": {
    "name": "ipython",
    "version": 3
   },
   "file_extension": ".py",
   "mimetype": "text/x-python",
   "name": "python",
   "nbconvert_exporter": "python",
   "pygments_lexer": "ipython3",
   "version": "3.10.0"
  }
 },
 "nbformat": 4,
 "nbformat_minor": 5
}
