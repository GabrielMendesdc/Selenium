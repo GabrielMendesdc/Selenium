{
 "cells": [
  {
   "cell_type": "code",
   "execution_count": null,
   "id": "20ac9c50",
   "metadata": {},
   "outputs": [],
   "source": [
    "from IPython.core.display import display, HTML\n",
    "display(HTML(\"<style>.container { width:90% !important; }</style>\"))\n"
   ]
  },
  {
   "cell_type": "code",
   "execution_count": 1,
   "id": "b57b0161",
   "metadata": {},
   "outputs": [],
   "source": [
    "from selenium.webdriver import Chrome, ChromeOptions\n",
    "from selenium.webdriver.chrome.options import Options\n",
    "from selenium.webdriver.chrome.service import Service\n",
    "from selenium.webdriver.common.by import By\n",
    "from pdf2image import convert_from_path\n",
    "from time import sleep\n",
    "import requests\n",
    "import shutil\n",
    "import os\n",
    "\n",
    "lista = [\"https://www.supermercadosdalben.com.br/ofertas.html\",\n",
    "         'https://goodbom.com.br/tabloides/index.php/goodbom-taquaral/',\n",
    "        \"https://www.hortifrutifartura.com.br/wp-content/themes/fartura/images/banner-oferta.png\",\n",
    "        'https://obahortifruti.com.br/ofertas-oba/ofertas.php?regiao=sp',\n",
    "        'https://www.superpaguemenos.com.br/tabloide-digital/s',]\n",
    "\n",
    "\n",
    "def purgedir(parent):\n",
    "    for root, dirs, files in os.walk(parent):                                      \n",
    "        for item in files:\n",
    "            filespec = os.path.join(root, item)\n",
    "            os.unlink(filespec)\n",
    "            \n",
    "            \n",
    "def inita():\n",
    "    s=Service(r'C:/Users/pdv/chromedriver.exe')\n",
    "    browser = Chrome(service=s)\n",
    "    \n",
    "    browser.get('https://goodbom.com.br/tabloides/index.php/goodbom-taquaral/')\n",
    "    browser.execute_script(\"window.open('https://www.supermercadosdalben.com.br/ofertas.html', '_blank')\")    \n",
    "    browser.execute_script(\"window.open('https://www.hortifrutifartura.com.br/wp-content/themes/fartura/images/banner-oferta.png', '_blank')\")   \n",
    "    browser.execute_script(\"window.open('https://obahortifruti.com.br/', '_blank')\")   \n",
    "    browser.execute_script(\"window.open('https://www.superpaguemenos.com.br/tabloide-digital/s', '_blank')\")   \n",
    "    sleep(300)\n",
    "    \n",
    "    \n",
    "if __name__ == '__main__':\n",
    "    inita()"
   ]
  },
  {
   "cell_type": "code",
   "execution_count": 1,
   "id": "48d9465b",
   "metadata": {},
   "outputs": [],
   "source": [
    "from pdf2image import convert_from_path\n",
    "import os\n",
    "\n",
    "def purgedir(parent):\n",
    "    for root, dirs, files in os.walk(parent):                                      \n",
    "        for item in files:\n",
    "            filespec = os.path.join(root, item)\n",
    "            os.unlink(filespec)\n",
    "            \n",
    "            \n",
    "\n",
    "pdf('dalbem',3)"
   ]
  },
  {
   "cell_type": "code",
   "execution_count": null,
   "id": "20c46714",
   "metadata": {},
   "outputs": [],
   "source": []
  }
 ],
 "metadata": {
  "kernelspec": {
   "display_name": "cientista",
   "language": "python",
   "name": "cientista"
  },
  "language_info": {
   "codemirror_mode": {
    "name": "ipython",
    "version": 3
   },
   "file_extension": ".py",
   "mimetype": "text/x-python",
   "name": "python",
   "nbconvert_exporter": "python",
   "pygments_lexer": "ipython3",
   "version": "3.10.0"
  }
 },
 "nbformat": 4,
 "nbformat_minor": 5
}
