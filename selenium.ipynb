{
 "cells": [
  {
   "cell_type": "code",
   "execution_count": 1,
   "id": "6c3635d6",
   "metadata": {
    "scrolled": true
   },
   "outputs": [
    {
     "data": {
      "text/html": [
       "<style>.container { width:90% !important; }</style>"
      ],
      "text/plain": [
       "<IPython.core.display.HTML object>"
      ]
     },
     "metadata": {},
     "output_type": "display_data"
    }
   ],
   "source": [
    "from IPython.core.display import display, HTML\n",
    "display(HTML(\"<style>.container { width:90% !important; }</style>\"))"
   ]
  },
  {
   "cell_type": "code",
   "execution_count": null,
   "id": "220db796",
   "metadata": {},
   "outputs": [],
   "source": [
    "from selenium.webdriver import Chrome\n",
    "from selenium.webdriver.chrome.service import Service\n",
    "from selenium.webdriver.common.by import By\n",
    "from time import sleep\n",
    "\n",
    "s=Service(r'C:/Users/pdv/chromedriver.exe')\n",
    "browser = Chrome(service=s)\n",
    "browser.get('https://www.hltv.org/results')\n",
    "\n",
    "sleep(3)\n",
    "\n",
    "body = browser.find_element(By.TAG_NAME, 'body')\n",
    "nr = body.find_elements(By.CLASS_NAME, 'results-sublist')\n",
    "\n",
    "for i in nr:\n",
    "    print()\n",
    "    print(len(i.text.split('\\n')[0]) * '-')\n",
    "    print(i.text.split('\\n')[0])\n",
    "    print(len(i.text.split('\\n')[0]) * '-')\n",
    "    tio = i.find_elements(By.TAG_NAME, 'a')\n",
    "    for ti in tio:  \n",
    "        res = ti.text.split('\\n')[0:3]\n",
    "        print()\n",
    "        for re in res: print( re, end=' ')\n",
    "        print()\n",
    "    \n",
    "    \n",
    "browser.quit()"
   ]
  },
  {
   "cell_type": "code",
   "execution_count": 20,
   "id": "4d1319d2",
   "metadata": {},
   "outputs": [
    {
     "ename": "WebDriverException",
     "evalue": "Message: unknown error: net::ERR_CONNECTION_CLOSED\n  (Session info: chrome=96.0.4664.110)\nStacktrace:\nBacktrace:\n\tOrdinal0 [0x00913AB3+2505395]\n\tOrdinal0 [0x008AAE41+2076225]\n\tOrdinal0 [0x007B2498+1057944]\n\tOrdinal0 [0x007AF0A1+1044641]\n\tOrdinal0 [0x007A52C2+1004226]\n\tOrdinal0 [0x007A5EC2+1007298]\n\tOrdinal0 [0x007A550A+1004810]\n\tOrdinal0 [0x007A4BC8+1002440]\n\tOrdinal0 [0x007A3D5D+998749]\n\tOrdinal0 [0x007A4016+999446]\n\tOrdinal0 [0x007B3A6A+1063530]\n\tOrdinal0 [0x008056ED+1398509]\n\tOrdinal0 [0x007F59F3+1333747]\n\tOrdinal0 [0x00805168+1397096]\n\tOrdinal0 [0x007F58BB+1333435]\n\tOrdinal0 [0x007D23E4+1188836]\n\tOrdinal0 [0x007D323F+1192511]\n\tGetHandleVerifier [0x00A9CB36+1554566]\n\tGetHandleVerifier [0x00B44A0C+2242396]\n\tGetHandleVerifier [0x009A0E0B+523099]\n\tGetHandleVerifier [0x0099FEB0+519168]\n\tOrdinal0 [0x008B02FD+2097917]\n\tOrdinal0 [0x008B4388+2114440]\n\tOrdinal0 [0x008B44C2+2114754]\n\tOrdinal0 [0x008BE041+2154561]\n\tBaseThreadInitThunk [0x7572FA29+25]\n\tRtlGetAppContainerNamedObjectPath [0x774C7A9E+286]\n\tRtlGetAppContainerNamedObjectPath [0x774C7A6E+238]\n",
     "output_type": "error",
     "traceback": [
      "\u001b[1;31m---------------------------------------------------------------------------\u001b[0m",
      "\u001b[1;31mWebDriverException\u001b[0m                        Traceback (most recent call last)",
      "\u001b[1;32m~\\AppData\\Local\\Temp/ipykernel_15064/2716460737.py\u001b[0m in \u001b[0;36m<module>\u001b[1;34m\u001b[0m\n\u001b[0;32m     13\u001b[0m \u001b[0mb\u001b[0m \u001b[1;33m=\u001b[0m \u001b[1;34m\"http://goodbom.com.br/tabloides/wp-content/uploads/2021/12/Dia-28-pg2-lojas.jpg\"\u001b[0m\u001b[1;33m\u001b[0m\u001b[1;33m\u001b[0m\u001b[0m\n\u001b[0;32m     14\u001b[0m \u001b[1;33m\u001b[0m\u001b[0m\n\u001b[1;32m---> 15\u001b[1;33m \u001b[0mbrowser\u001b[0m\u001b[1;33m.\u001b[0m\u001b[0mget\u001b[0m\u001b[1;33m(\u001b[0m\u001b[0ma\u001b[0m\u001b[1;33m)\u001b[0m\u001b[1;33m\u001b[0m\u001b[1;33m\u001b[0m\u001b[0m\n\u001b[0m\u001b[0;32m     16\u001b[0m \u001b[0msleep\u001b[0m\u001b[1;33m(\u001b[0m\u001b[1;36m5\u001b[0m\u001b[1;33m)\u001b[0m\u001b[1;33m\u001b[0m\u001b[1;33m\u001b[0m\u001b[0m\n\u001b[0;32m     17\u001b[0m \u001b[1;33m\u001b[0m\u001b[0m\n",
      "\u001b[1;32m~\\anaconda3\\envs\\cientista\\lib\\site-packages\\selenium\\webdriver\\remote\\webdriver.py\u001b[0m in \u001b[0;36mget\u001b[1;34m(self, url)\u001b[0m\n\u001b[0;32m    434\u001b[0m         \u001b[0mLoads\u001b[0m \u001b[0ma\u001b[0m \u001b[0mweb\u001b[0m \u001b[0mpage\u001b[0m \u001b[1;32min\u001b[0m \u001b[0mthe\u001b[0m \u001b[0mcurrent\u001b[0m \u001b[0mbrowser\u001b[0m \u001b[0msession\u001b[0m\u001b[1;33m.\u001b[0m\u001b[1;33m\u001b[0m\u001b[1;33m\u001b[0m\u001b[0m\n\u001b[0;32m    435\u001b[0m         \"\"\"\n\u001b[1;32m--> 436\u001b[1;33m         \u001b[0mself\u001b[0m\u001b[1;33m.\u001b[0m\u001b[0mexecute\u001b[0m\u001b[1;33m(\u001b[0m\u001b[0mCommand\u001b[0m\u001b[1;33m.\u001b[0m\u001b[0mGET\u001b[0m\u001b[1;33m,\u001b[0m \u001b[1;33m{\u001b[0m\u001b[1;34m'url'\u001b[0m\u001b[1;33m:\u001b[0m \u001b[0murl\u001b[0m\u001b[1;33m}\u001b[0m\u001b[1;33m)\u001b[0m\u001b[1;33m\u001b[0m\u001b[1;33m\u001b[0m\u001b[0m\n\u001b[0m\u001b[0;32m    437\u001b[0m \u001b[1;33m\u001b[0m\u001b[0m\n\u001b[0;32m    438\u001b[0m     \u001b[1;33m@\u001b[0m\u001b[0mproperty\u001b[0m\u001b[1;33m\u001b[0m\u001b[1;33m\u001b[0m\u001b[0m\n",
      "\u001b[1;32m~\\anaconda3\\envs\\cientista\\lib\\site-packages\\selenium\\webdriver\\remote\\webdriver.py\u001b[0m in \u001b[0;36mexecute\u001b[1;34m(self, driver_command, params)\u001b[0m\n\u001b[0;32m    422\u001b[0m         \u001b[0mresponse\u001b[0m \u001b[1;33m=\u001b[0m \u001b[0mself\u001b[0m\u001b[1;33m.\u001b[0m\u001b[0mcommand_executor\u001b[0m\u001b[1;33m.\u001b[0m\u001b[0mexecute\u001b[0m\u001b[1;33m(\u001b[0m\u001b[0mdriver_command\u001b[0m\u001b[1;33m,\u001b[0m \u001b[0mparams\u001b[0m\u001b[1;33m)\u001b[0m\u001b[1;33m\u001b[0m\u001b[1;33m\u001b[0m\u001b[0m\n\u001b[0;32m    423\u001b[0m         \u001b[1;32mif\u001b[0m \u001b[0mresponse\u001b[0m\u001b[1;33m:\u001b[0m\u001b[1;33m\u001b[0m\u001b[1;33m\u001b[0m\u001b[0m\n\u001b[1;32m--> 424\u001b[1;33m             \u001b[0mself\u001b[0m\u001b[1;33m.\u001b[0m\u001b[0merror_handler\u001b[0m\u001b[1;33m.\u001b[0m\u001b[0mcheck_response\u001b[0m\u001b[1;33m(\u001b[0m\u001b[0mresponse\u001b[0m\u001b[1;33m)\u001b[0m\u001b[1;33m\u001b[0m\u001b[1;33m\u001b[0m\u001b[0m\n\u001b[0m\u001b[0;32m    425\u001b[0m             response['value'] = self._unwrap_value(\n\u001b[0;32m    426\u001b[0m                 response.get('value', None))\n",
      "\u001b[1;32m~\\anaconda3\\envs\\cientista\\lib\\site-packages\\selenium\\webdriver\\remote\\errorhandler.py\u001b[0m in \u001b[0;36mcheck_response\u001b[1;34m(self, response)\u001b[0m\n\u001b[0;32m    245\u001b[0m                 \u001b[0malert_text\u001b[0m \u001b[1;33m=\u001b[0m \u001b[0mvalue\u001b[0m\u001b[1;33m[\u001b[0m\u001b[1;34m'alert'\u001b[0m\u001b[1;33m]\u001b[0m\u001b[1;33m.\u001b[0m\u001b[0mget\u001b[0m\u001b[1;33m(\u001b[0m\u001b[1;34m'text'\u001b[0m\u001b[1;33m)\u001b[0m\u001b[1;33m\u001b[0m\u001b[1;33m\u001b[0m\u001b[0m\n\u001b[0;32m    246\u001b[0m             \u001b[1;32mraise\u001b[0m \u001b[0mexception_class\u001b[0m\u001b[1;33m(\u001b[0m\u001b[0mmessage\u001b[0m\u001b[1;33m,\u001b[0m \u001b[0mscreen\u001b[0m\u001b[1;33m,\u001b[0m \u001b[0mstacktrace\u001b[0m\u001b[1;33m,\u001b[0m \u001b[0malert_text\u001b[0m\u001b[1;33m)\u001b[0m  \u001b[1;31m# type: ignore[call-arg]  # mypy is not smart enough here\u001b[0m\u001b[1;33m\u001b[0m\u001b[1;33m\u001b[0m\u001b[0m\n\u001b[1;32m--> 247\u001b[1;33m         \u001b[1;32mraise\u001b[0m \u001b[0mexception_class\u001b[0m\u001b[1;33m(\u001b[0m\u001b[0mmessage\u001b[0m\u001b[1;33m,\u001b[0m \u001b[0mscreen\u001b[0m\u001b[1;33m,\u001b[0m \u001b[0mstacktrace\u001b[0m\u001b[1;33m)\u001b[0m\u001b[1;33m\u001b[0m\u001b[1;33m\u001b[0m\u001b[0m\n\u001b[0m\u001b[0;32m    248\u001b[0m \u001b[1;33m\u001b[0m\u001b[0m\n\u001b[0;32m    249\u001b[0m     \u001b[1;32mdef\u001b[0m \u001b[0m_value_or_default\u001b[0m\u001b[1;33m(\u001b[0m\u001b[0mself\u001b[0m\u001b[1;33m,\u001b[0m \u001b[0mobj\u001b[0m\u001b[1;33m:\u001b[0m \u001b[0mMapping\u001b[0m\u001b[1;33m[\u001b[0m\u001b[0m_KT\u001b[0m\u001b[1;33m,\u001b[0m \u001b[0m_VT\u001b[0m\u001b[1;33m]\u001b[0m\u001b[1;33m,\u001b[0m \u001b[0mkey\u001b[0m\u001b[1;33m:\u001b[0m \u001b[0m_KT\u001b[0m\u001b[1;33m,\u001b[0m \u001b[0mdefault\u001b[0m\u001b[1;33m:\u001b[0m \u001b[0m_VT\u001b[0m\u001b[1;33m)\u001b[0m \u001b[1;33m->\u001b[0m \u001b[0m_VT\u001b[0m\u001b[1;33m:\u001b[0m\u001b[1;33m\u001b[0m\u001b[1;33m\u001b[0m\u001b[0m\n",
      "\u001b[1;31mWebDriverException\u001b[0m: Message: unknown error: net::ERR_CONNECTION_CLOSED\n  (Session info: chrome=96.0.4664.110)\nStacktrace:\nBacktrace:\n\tOrdinal0 [0x00913AB3+2505395]\n\tOrdinal0 [0x008AAE41+2076225]\n\tOrdinal0 [0x007B2498+1057944]\n\tOrdinal0 [0x007AF0A1+1044641]\n\tOrdinal0 [0x007A52C2+1004226]\n\tOrdinal0 [0x007A5EC2+1007298]\n\tOrdinal0 [0x007A550A+1004810]\n\tOrdinal0 [0x007A4BC8+1002440]\n\tOrdinal0 [0x007A3D5D+998749]\n\tOrdinal0 [0x007A4016+999446]\n\tOrdinal0 [0x007B3A6A+1063530]\n\tOrdinal0 [0x008056ED+1398509]\n\tOrdinal0 [0x007F59F3+1333747]\n\tOrdinal0 [0x00805168+1397096]\n\tOrdinal0 [0x007F58BB+1333435]\n\tOrdinal0 [0x007D23E4+1188836]\n\tOrdinal0 [0x007D323F+1192511]\n\tGetHandleVerifier [0x00A9CB36+1554566]\n\tGetHandleVerifier [0x00B44A0C+2242396]\n\tGetHandleVerifier [0x009A0E0B+523099]\n\tGetHandleVerifier [0x0099FEB0+519168]\n\tOrdinal0 [0x008B02FD+2097917]\n\tOrdinal0 [0x008B4388+2114440]\n\tOrdinal0 [0x008B44C2+2114754]\n\tOrdinal0 [0x008BE041+2154561]\n\tBaseThreadInitThunk [0x7572FA29+25]\n\tRtlGetAppContainerNamedObjectPath [0x774C7A9E+286]\n\tRtlGetAppContainerNamedObjectPath [0x774C7A6E+238]\n"
     ]
    }
   ],
   "source": [
    "from selenium.webdriver import Chrome\n",
    "from selenium.webdriver.chrome.service import Service\n",
    "from selenium.webdriver.common.by import By\n",
    "from time import sleep\n",
    "import requests\n",
    "\n",
    "s=Service(r'C:/Users/pdv/chromedriver.exe')\n",
    "browser = Chrome(service=s)\n",
    "# browser.get('https://goodbom.com.br/tabloides/index.php/goodbom-taquaral/')\n",
    "# sleep(5)\n",
    "\n",
    "a = \"http://goodbom.com.br/tabloides/wp-content/uploads/2021/12/Dia-28-pg1-lojas.jpg\"\n",
    "b = \"http://goodbom.com.br/tabloides/wp-content/uploads/2021/12/Dia-28-pg2-lojas.jpg\"\n",
    "\n",
    "browser.get(a)\n",
    "sleep(5)\n",
    "\n",
    "response = requests.get(a, stream=True)\n",
    "with open('C:/Users/pdv/Desktop/selenium-imgs/goodbom.png', 'wb') as out_file:\n",
    "    shutil.copyfileobj(response.raw, out_file)\n",
    "del response\n",
    "\n",
    "# with open('C:/Users/pdv/Desktop/selenium-imgs/goodbom.png', 'wb') as file:\n",
    "#     file.write(browser.find_element(By.XPATH, '//*[@alt=\"I\"]').screenshot_as_png)\n",
    "\n",
    "browser.quit()\n"
   ]
  },
  {
   "cell_type": "code",
   "execution_count": 18,
   "id": "a1e89eac",
   "metadata": {},
   "outputs": [
    {
     "name": "stdout",
     "output_type": "stream",
     "text": [
      "Example Domain\n"
     ]
    }
   ],
   "source": [
    "from selenium.webdriver import Chrome\n",
    "from selenium.webdriver.chrome.service import Service\n",
    "from selenium.webdriver.common.by import By\n",
    "from time import sleep\n",
    "import requests\n",
    "\n",
    "s=Service(r'C:/Users/pdv/chromedriver.exe')\n",
    "browser = Chrome(service=s)\n",
    "\n",
    "browser.get(\"https://analytics.usa.gov/data/live/realtime.json\")\n",
    "sleep(5)\n",
    "print(browser.title)\n",
    "\n",
    "\n",
    "browser.quit()"
   ]
  },
  {
   "cell_type": "code",
   "execution_count": null,
   "id": "d4654ab9",
   "metadata": {},
   "outputs": [],
   "source": [
    "num = 59\n",
    "st = str(num)\n",
    "\n",
    "def ret(num):\n",
    "    if len(str(num)) > 1:\n",
    "        a = [int(i) for i in str(num)]\n",
    "        soma = sum(a)\n",
    "        ret(soma)\n",
    "    else:\n",
    "        print(num)\n",
    "        return num\n",
    "        \n",
    "        \n",
    "print(ret(num))\n"
   ]
  }
 ],
 "metadata": {
  "kernelspec": {
   "display_name": "cientista",
   "language": "python",
   "name": "cientista"
  },
  "language_info": {
   "codemirror_mode": {
    "name": "ipython",
    "version": 3
   },
   "file_extension": ".py",
   "mimetype": "text/x-python",
   "name": "python",
   "nbconvert_exporter": "python",
   "pygments_lexer": "ipython3",
   "version": "3.10.0"
  }
 },
 "nbformat": 4,
 "nbformat_minor": 5
}
