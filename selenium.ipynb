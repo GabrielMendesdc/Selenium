{
 "cells": [
  {
   "cell_type": "code",
   "execution_count": 57,
   "id": "6c3635d6",
   "metadata": {},
   "outputs": [
    {
     "data": {
      "text/html": [
       "<style>.container { width:90% !important; }</style>"
      ],
      "text/plain": [
       "<IPython.core.display.HTML object>"
      ]
     },
     "metadata": {},
     "output_type": "display_data"
    },
    {
     "name": "stdout",
     "output_type": "stream",
     "text": [
      "12\n"
     ]
    }
   ],
   "source": [
    "from IPython.core.display import display, HTML\n",
    "display(HTML(\"<style>.container { width:90% !important; }</style>\"))\n",
    "print(len('Você ganhou:'))"
   ]
  },
  {
   "cell_type": "code",
   "execution_count": 67,
   "id": "220db796",
   "metadata": {},
   "outputs": [
    {
     "name": "stdout",
     "output_type": "stream",
     "text": [
      "Você ganhou: 5\n"
     ]
    }
   ],
   "source": [
    "from selenium.webdriver import Chrome\n",
    "from selenium.webdriver.chrome.service import Service\n",
    "from selenium.webdriver.common.by import By\n",
    "\n",
    "from time import sleep\n",
    "\n",
    "s=Service(r'C:/Users/pdv/chromedriver.exe')\n",
    "browser = Chrome(service=s)\n",
    "\n",
    "browser.get('https://curso-python-selenium.netlify.app/exercicio_02.html')\n",
    "sleep(3)\n",
    "\n",
    "\n",
    "\n"
   ]
  },
  {
   "cell_type": "code",
   "execution_count": null,
   "id": "0ed5c2f3",
   "metadata": {},
   "outputs": [],
   "source": [
    "'''ex1'''\n",
    "h1 = browser.find_element(By.TAG_NAME,'h1').tag_name\n",
    "listaval = browser.find_elements(By.TAG_NAME,'p')\n",
    "\n",
    "val1, val2, val3 = '', '', ''\n",
    "val1 = listaval[0].get_attribute('atributo')\n",
    "val2 = listaval[1].get_attribute('atributo')\n",
    "val3 = listaval[2].get_attribute('atributo')\n",
    "\n",
    "dic = {h1:\n",
    "       {\n",
    "        val1:listaval[0].text,\n",
    "        val2:listaval[1].text,\n",
    "        val3:listaval[2].text\n",
    "       }\n",
    "      }\n",
    "browser.quit()\n",
    "\n",
    "print(dic)"
   ]
  },
  {
   "cell_type": "code",
   "execution_count": null,
   "id": "8902553b",
   "metadata": {},
   "outputs": [],
   "source": [
    "'''ex2'''\n",
    "a = browser.find_element(By.TAG_NAME, 'a')\n",
    "a.click()\n",
    "p = browser.find_elements(By.TAG_NAME, 'p')\n",
    "\n",
    "while True:\n",
    "    p = browser.find_elements(By.TAG_NAME, 'p')\n",
    "    if p[-1].text[:14] == f'Você ganhou: {p[1].text[-1]}':\n",
    "        break\n",
    "    a.click()\n",
    "print(p[-1].text)"
   ]
  }
 ],
 "metadata": {
  "kernelspec": {
   "display_name": "cientista",
   "language": "python",
   "name": "cientista"
  },
  "language_info": {
   "codemirror_mode": {
    "name": "ipython",
    "version": 3
   },
   "file_extension": ".py",
   "mimetype": "text/x-python",
   "name": "python",
   "nbconvert_exporter": "python",
   "pygments_lexer": "ipython3",
   "version": "3.10.0"
  }
 },
 "nbformat": 4,
 "nbformat_minor": 5
}
