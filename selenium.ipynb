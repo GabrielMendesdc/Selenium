{
 "cells": [
  {
   "cell_type": "code",
   "execution_count": 1,
   "id": "6c3635d6",
   "metadata": {
    "scrolled": true
   },
   "outputs": [
    {
     "data": {
      "text/html": [
       "<style>.container { width:90% !important; }</style>"
      ],
      "text/plain": [
       "<IPython.core.display.HTML object>"
      ]
     },
     "metadata": {},
     "output_type": "display_data"
    }
   ],
   "source": [
    "from IPython.core.display import display, HTML\n",
    "display(HTML(\"<style>.container { width:90% !important; }</style>\"))"
   ]
  },
  {
   "cell_type": "code",
   "execution_count": null,
   "id": "220db796",
   "metadata": {},
   "outputs": [],
   "source": [
    "from selenium.webdriver import Chrome\n",
    "from selenium.webdriver.chrome.service import Service\n",
    "from selenium.webdriver.common.by import By\n",
    "from time import sleep\n",
    "\n",
    "s=Service(r'C:/Users/pdv/chromedriver.exe')\n",
    "browser = Chrome(service=s)\n",
    "browser.get('https://www.hltv.org/results')\n",
    "\n",
    "sleep(3)\n",
    "\n",
    "body = browser.find_element(By.TAG_NAME, 'body')\n",
    "nr = body.find_elements(By.CLASS_NAME, 'results-sublist')\n",
    "\n",
    "for i in nr:\n",
    "    print()\n",
    "    print(len(i.text.split('\\n')[0]) * '-')\n",
    "    print(i.text.split('\\n')[0])\n",
    "    print(len(i.text.split('\\n')[0]) * '-')\n",
    "    tio = i.find_elements(By.TAG_NAME, 'a')\n",
    "    for ti in tio:  \n",
    "        res = ti.text.split('\\n')[0:3]\n",
    "        print()\n",
    "        for re in res: print( re, end=' ')\n",
    "        print()\n",
    "    \n",
    "    \n",
    "browser.quit()"
   ]
  },
  {
   "cell_type": "code",
   "execution_count": 3,
   "id": "f2893bae",
   "metadata": {},
   "outputs": [
    {
     "name": "stdout",
     "output_type": "stream",
     "text": [
      "page\n",
      "page\n",
      "page\n",
      "page\n"
     ]
    }
   ],
   "source": [
    "from selenium.webdriver import Chrome\n",
    "from selenium.webdriver.chrome.service import Service\n",
    "from selenium.webdriver.common.by import By\n",
    "from pdf2image import convert_from_path\n",
    "from time import sleep\n",
    "import requests\n",
    "import shutil\n",
    "import os\n",
    "\n",
    "\n",
    "s=Service(r'C:/Users/pdv/chromedriver.exe')\n",
    "browser = Chrome(service=s)\n",
    "browser.get('https://www.supermercadosdalben.com.br/ofertas.html')\n",
    "\n",
    "sleep(3)\n",
    "\n",
    "def purgedir(parent):\n",
    "    for root, dirs, files in os.walk(parent):                                      \n",
    "        for item in files:\n",
    "            filespec = os.path.join(root, item)\n",
    "            os.unlink(filespec)\n",
    "            \n",
    "            \n",
    "body = browser.find_element(By.TAG_NAME, 'body')\n",
    "img = body.find_elements(By.CLASS_NAME, 'img-responsive ')\n",
    "img[1].click()\n",
    "sleep(6)\n",
    "window_after = browser.window_handles[1]\n",
    "browser.switch_to.window(window_after)\n",
    "url = browser.current_url\n",
    "response = requests.get(url, stream=True)\n",
    "with open('C:/Users/pdv/Desktop/selenium-imgs/dalbem.pdf', 'wb') as out_file:\n",
    "    shutil.copyfileobj(response.raw, out_file)\n",
    "del response\n",
    "browser.quit()\n",
    "\n",
    "purgedir(f'C:/Users/pdv/Desktop/selenium-imgs/rename')\n",
    "    \n",
    "images = convert_from_path('C:/Users/pdv/Desktop/selenium-imgs/dalbem.pdf',\n",
    "                           poppler_path=r'C:\\Program Files (x86)\\poppler-21.11.0\\Library\\bin',\n",
    "                          output_folder='C:/Users/pdv/Desktop/selenium-imgs/rename',\n",
    "                          fmt='PNG')\n",
    " \n",
    "for i in range(len(images)):   \n",
    "    images[i].save('page'+ str(i) +'.png', 'PNG')\n",
    "    print('page')\n",
    "    "
   ]
  },
  {
   "cell_type": "code",
   "execution_count": 34,
   "id": "d4654ab9",
   "metadata": {},
   "outputs": [
    {
     "name": "stdout",
     "output_type": "stream",
     "text": [
      "5\n",
      "None\n"
     ]
    }
   ],
   "source": [
    "num = 59\n",
    "st = str(num)\n",
    "\n",
    "def ret(num):\n",
    "    if len(str(num)) > 1:\n",
    "        a = [int(i) for i in str(num)]\n",
    "        soma = sum(a)\n",
    "        ret(soma)\n",
    "    else:\n",
    "        print(num)\n",
    "        return num\n",
    "        \n",
    "        \n",
    "print(ret(num))\n"
   ]
  },
  {
   "cell_type": "code",
   "execution_count": null,
   "id": "4d1319d2",
   "metadata": {},
   "outputs": [],
   "source": []
  }
 ],
 "metadata": {
  "kernelspec": {
   "display_name": "cientista",
   "language": "python",
   "name": "cientista"
  },
  "language_info": {
   "codemirror_mode": {
    "name": "ipython",
    "version": 3
   },
   "file_extension": ".py",
   "mimetype": "text/x-python",
   "name": "python",
   "nbconvert_exporter": "python",
   "pygments_lexer": "ipython3",
   "version": "3.10.0"
  }
 },
 "nbformat": 4,
 "nbformat_minor": 5
}
